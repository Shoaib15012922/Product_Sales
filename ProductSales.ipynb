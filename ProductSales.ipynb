{
 "cells": [
  {
   "cell_type": "code",
   "execution_count": 5,
   "id": "266c6618-78c6-41ba-bf2a-6435cd936d42",
   "metadata": {},
   "outputs": [],
   "source": [
    "import numpy as np\n",
    "import pandas as pd\n",
    "import statsmodels.api as sm\n",
    "import statsmodels.formula.api as smf"
   ]
  },
  {
   "cell_type": "code",
   "execution_count": 6,
   "id": "44f70e10-0cf4-4058-b5fb-db3b4eeb5d3b",
   "metadata": {},
   "outputs": [],
   "source": [
    "data = pd.read_csv(\"sales.csv\")"
   ]
  },
  {
   "cell_type": "code",
   "execution_count": 7,
   "id": "2f8a5f03-b9c0-431c-a437-418ef9c441d9",
   "metadata": {},
   "outputs": [
    {
     "data": {
      "text/html": [
       "<div>\n",
       "<style scoped>\n",
       "    .dataframe tbody tr th:only-of-type {\n",
       "        vertical-align: middle;\n",
       "    }\n",
       "\n",
       "    .dataframe tbody tr th {\n",
       "        vertical-align: top;\n",
       "    }\n",
       "\n",
       "    .dataframe thead th {\n",
       "        text-align: right;\n",
       "    }\n",
       "</style>\n",
       "<table border=\"1\" class=\"dataframe\">\n",
       "  <thead>\n",
       "    <tr style=\"text-align: right;\">\n",
       "      <th></th>\n",
       "      <th>sales</th>\n",
       "      <th>price</th>\n",
       "      <th>brand</th>\n",
       "      <th>feat</th>\n",
       "    </tr>\n",
       "  </thead>\n",
       "  <tbody>\n",
       "    <tr>\n",
       "      <th>0</th>\n",
       "      <td>8256.0</td>\n",
       "      <td>3.87</td>\n",
       "      <td>tropicana</td>\n",
       "      <td>0</td>\n",
       "    </tr>\n",
       "    <tr>\n",
       "      <th>1</th>\n",
       "      <td>6144.0</td>\n",
       "      <td>3.87</td>\n",
       "      <td>tropicana</td>\n",
       "      <td>0</td>\n",
       "    </tr>\n",
       "    <tr>\n",
       "      <th>2</th>\n",
       "      <td>3840.0</td>\n",
       "      <td>3.87</td>\n",
       "      <td>tropicana</td>\n",
       "      <td>0</td>\n",
       "    </tr>\n",
       "    <tr>\n",
       "      <th>3</th>\n",
       "      <td>8000.0</td>\n",
       "      <td>3.87</td>\n",
       "      <td>tropicana</td>\n",
       "      <td>0</td>\n",
       "    </tr>\n",
       "    <tr>\n",
       "      <th>4</th>\n",
       "      <td>8896.0</td>\n",
       "      <td>3.87</td>\n",
       "      <td>tropicana</td>\n",
       "      <td>0</td>\n",
       "    </tr>\n",
       "  </tbody>\n",
       "</table>\n",
       "</div>"
      ],
      "text/plain": [
       "    sales  price      brand  feat\n",
       "0  8256.0   3.87  tropicana     0\n",
       "1  6144.0   3.87  tropicana     0\n",
       "2  3840.0   3.87  tropicana     0\n",
       "3  8000.0   3.87  tropicana     0\n",
       "4  8896.0   3.87  tropicana     0"
      ]
     },
     "execution_count": 7,
     "metadata": {},
     "output_type": "execute_result"
    }
   ],
   "source": [
    "data.head()"
   ]
  },
  {
   "cell_type": "code",
   "execution_count": 8,
   "id": "ac669d36-c1b0-4fdd-bc24-07751351b660",
   "metadata": {},
   "outputs": [
    {
     "data": {
      "text/plain": [
       "array(['tropicana', 'minute.maid', 'dominicks'], dtype=object)"
      ]
     },
     "execution_count": 8,
     "metadata": {},
     "output_type": "execute_result"
    }
   ],
   "source": [
    "data[\"brand\"].unique()"
   ]
  },
  {
   "cell_type": "code",
   "execution_count": 12,
   "id": "38bdc60f-ffb7-47eb-b2e0-ad8ec086fd25",
   "metadata": {},
   "outputs": [
    {
     "name": "stdout",
     "output_type": "stream",
     "text": [
      "Intercept               10.279095\n",
      "brand[T.minute.maid]     0.681564\n",
      "brand[T.tropicana]       1.301756\n",
      "np.log(price)           -2.529893\n",
      "feat                     0.890625\n",
      "dtype: float64\n"
     ]
    }
   ],
   "source": [
    "# Regression Model with no interaction terms\n",
    "#brand value = 0 if absent and 1 if present\n",
    "\n",
    "model_1 = smf.glm(formula = \"np.log(sales) ~ brand + np.log(price)\", data = data)\n",
    "result_1 = model_1.fit()\n",
    "\n",
    "print(result_1.params)"
   ]
  },
  {
   "cell_type": "code",
   "execution_count": 14,
   "id": "a636fef0-8ead-4d5a-a199-f02c71dda46c",
   "metadata": {},
   "outputs": [
    {
     "name": "stdout",
     "output_type": "stream",
     "text": [
      "Intercept                                  10.406576\n",
      "brand[T.minute.maid]                        0.047203\n",
      "brand[T.tropicana]                          0.707941\n",
      "np.log(price)                              -2.774154\n",
      "np.log(price):brand[T.minute.maid]          0.782932\n",
      "np.log(price):brand[T.tropicana]            0.735793\n",
      "feat                                        1.094407\n",
      "brand[T.minute.maid]:feat                   1.172944\n",
      "brand[T.tropicana]:feat                     0.785252\n",
      "np.log(price):feat                         -0.470553\n",
      "np.log(price):brand[T.minute.maid]:feat    -1.109224\n",
      "np.log(price):brand[T.tropicana]:feat      -0.986141\n",
      "dtype: float64\n"
     ]
    }
   ],
   "source": [
    "# With interaction between 'log(price)', 'brand' & 'feat'\n",
    "model_2 = smf.glm(formula = \"np.log(sales) ~ np.log(price) * brand * feat\", data = data)\n",
    "result_2 = model_2.fit()\n",
    "\n",
    "print(result_2.params)"
   ]
  },
  {
   "cell_type": "code",
   "execution_count": 16,
   "id": "78522571-9385-4251-8021-aadc3eb0d8a1",
   "metadata": {},
   "outputs": [
    {
     "data": {
      "text/html": [
       "<table class=\"simpletable\">\n",
       "<caption>Generalized Linear Model Regression Results</caption>\n",
       "<tr>\n",
       "  <th>Dep. Variable:</th>     <td>np.log(sales)</td>  <th>  No. Observations:  </th>  <td> 28947</td> \n",
       "</tr>\n",
       "<tr>\n",
       "  <th>Model:</th>                  <td>GLM</td>       <th>  Df Residuals:      </th>  <td> 28935</td> \n",
       "</tr>\n",
       "<tr>\n",
       "  <th>Model Family:</th>        <td>Gaussian</td>     <th>  Df Model:          </th>  <td>    11</td> \n",
       "</tr>\n",
       "<tr>\n",
       "  <th>Link Function:</th>       <td>Identity</td>     <th>  Scale:             </th> <td> 0.48297</td>\n",
       "</tr>\n",
       "<tr>\n",
       "  <th>Method:</th>                <td>IRLS</td>       <th>  Log-Likelihood:    </th> <td> -30534.</td>\n",
       "</tr>\n",
       "<tr>\n",
       "  <th>Date:</th>            <td>Fri, 08 Mar 2024</td> <th>  Deviance:          </th> <td>  13975.</td>\n",
       "</tr>\n",
       "<tr>\n",
       "  <th>Time:</th>                <td>19:37:52</td>     <th>  Pearson chi2:      </th> <td>1.40e+04</td>\n",
       "</tr>\n",
       "<tr>\n",
       "  <th>No. Iterations:</th>          <td>3</td>        <th>  Pseudo R-squ. (CS):</th>  <td>0.6840</td> \n",
       "</tr>\n",
       "<tr>\n",
       "  <th>Covariance Type:</th>     <td>nonrobust</td>    <th>                     </th>     <td> </td>   \n",
       "</tr>\n",
       "</table>\n",
       "<table class=\"simpletable\">\n",
       "<tr>\n",
       "                     <td></td>                        <th>coef</th>     <th>std err</th>      <th>z</th>      <th>P>|z|</th>  <th>[0.025</th>    <th>0.975]</th>  \n",
       "</tr>\n",
       "<tr>\n",
       "  <th>Intercept</th>                               <td>   10.4066</td> <td>    0.023</td> <td>  445.668</td> <td> 0.000</td> <td>   10.361</td> <td>   10.452</td>\n",
       "</tr>\n",
       "<tr>\n",
       "  <th>brand[T.minute.maid]</th>                    <td>    0.0472</td> <td>    0.047</td> <td>    1.012</td> <td> 0.311</td> <td>   -0.044</td> <td>    0.139</td>\n",
       "</tr>\n",
       "<tr>\n",
       "  <th>brand[T.tropicana]</th>                      <td>    0.7079</td> <td>    0.051</td> <td>   13.937</td> <td> 0.000</td> <td>    0.608</td> <td>    0.808</td>\n",
       "</tr>\n",
       "<tr>\n",
       "  <th>np.log(price)</th>                           <td>   -2.7742</td> <td>    0.039</td> <td>  -71.445</td> <td> 0.000</td> <td>   -2.850</td> <td>   -2.698</td>\n",
       "</tr>\n",
       "<tr>\n",
       "  <th>np.log(price):brand[T.minute.maid]</th>      <td>    0.7829</td> <td>    0.061</td> <td>   12.750</td> <td> 0.000</td> <td>    0.663</td> <td>    0.903</td>\n",
       "</tr>\n",
       "<tr>\n",
       "  <th>np.log(price):brand[T.tropicana]</th>        <td>    0.7358</td> <td>    0.057</td> <td>   12.946</td> <td> 0.000</td> <td>    0.624</td> <td>    0.847</td>\n",
       "</tr>\n",
       "<tr>\n",
       "  <th>feat</th>                                    <td>    1.0944</td> <td>    0.038</td> <td>   28.721</td> <td> 0.000</td> <td>    1.020</td> <td>    1.169</td>\n",
       "</tr>\n",
       "<tr>\n",
       "  <th>brand[T.minute.maid]:feat</th>               <td>    1.1729</td> <td>    0.082</td> <td>   14.312</td> <td> 0.000</td> <td>    1.012</td> <td>    1.334</td>\n",
       "</tr>\n",
       "<tr>\n",
       "  <th>brand[T.tropicana]:feat</th>                 <td>    0.7853</td> <td>    0.099</td> <td>    7.952</td> <td> 0.000</td> <td>    0.592</td> <td>    0.979</td>\n",
       "</tr>\n",
       "<tr>\n",
       "  <th>np.log(price):feat</th>                      <td>   -0.4706</td> <td>    0.074</td> <td>   -6.351</td> <td> 0.000</td> <td>   -0.616</td> <td>   -0.325</td>\n",
       "</tr>\n",
       "<tr>\n",
       "  <th>np.log(price):brand[T.minute.maid]:feat</th> <td>   -1.1092</td> <td>    0.122</td> <td>   -9.074</td> <td> 0.000</td> <td>   -1.349</td> <td>   -0.870</td>\n",
       "</tr>\n",
       "<tr>\n",
       "  <th>np.log(price):brand[T.tropicana]:feat</th>   <td>   -0.9861</td> <td>    0.124</td> <td>   -7.946</td> <td> 0.000</td> <td>   -1.229</td> <td>   -0.743</td>\n",
       "</tr>\n",
       "</table>"
      ],
      "text/latex": [
       "\\begin{center}\n",
       "\\begin{tabular}{lclc}\n",
       "\\toprule\n",
       "\\textbf{Dep. Variable:}                          &  np.log(sales)   & \\textbf{  No. Observations:  } &    28947    \\\\\n",
       "\\textbf{Model:}                                  &       GLM        & \\textbf{  Df Residuals:      } &    28935    \\\\\n",
       "\\textbf{Model Family:}                           &     Gaussian     & \\textbf{  Df Model:          } &       11    \\\\\n",
       "\\textbf{Link Function:}                          &     Identity     & \\textbf{  Scale:             } &   0.48297   \\\\\n",
       "\\textbf{Method:}                                 &       IRLS       & \\textbf{  Log-Likelihood:    } &   -30534.   \\\\\n",
       "\\textbf{Date:}                                   & Fri, 08 Mar 2024 & \\textbf{  Deviance:          } &    13975.   \\\\\n",
       "\\textbf{Time:}                                   &     19:37:52     & \\textbf{  Pearson chi2:      } &  1.40e+04   \\\\\n",
       "\\textbf{No. Iterations:}                         &        3         & \\textbf{  Pseudo R-squ. (CS):} &   0.6840    \\\\\n",
       "\\textbf{Covariance Type:}                        &    nonrobust     & \\textbf{                     } &             \\\\\n",
       "\\bottomrule\n",
       "\\end{tabular}\n",
       "\\begin{tabular}{lcccccc}\n",
       "                                                 & \\textbf{coef} & \\textbf{std err} & \\textbf{z} & \\textbf{P$> |$z$|$} & \\textbf{[0.025} & \\textbf{0.975]}  \\\\\n",
       "\\midrule\n",
       "\\textbf{Intercept}                               &      10.4066  &        0.023     &   445.668  &         0.000        &       10.361    &       10.452     \\\\\n",
       "\\textbf{brand[T.minute.maid]}                    &       0.0472  &        0.047     &     1.012  &         0.311        &       -0.044    &        0.139     \\\\\n",
       "\\textbf{brand[T.tropicana]}                      &       0.7079  &        0.051     &    13.937  &         0.000        &        0.608    &        0.808     \\\\\n",
       "\\textbf{np.log(price)}                           &      -2.7742  &        0.039     &   -71.445  &         0.000        &       -2.850    &       -2.698     \\\\\n",
       "\\textbf{np.log(price):brand[T.minute.maid]}      &       0.7829  &        0.061     &    12.750  &         0.000        &        0.663    &        0.903     \\\\\n",
       "\\textbf{np.log(price):brand[T.tropicana]}        &       0.7358  &        0.057     &    12.946  &         0.000        &        0.624    &        0.847     \\\\\n",
       "\\textbf{feat}                                    &       1.0944  &        0.038     &    28.721  &         0.000        &        1.020    &        1.169     \\\\\n",
       "\\textbf{brand[T.minute.maid]:feat}               &       1.1729  &        0.082     &    14.312  &         0.000        &        1.012    &        1.334     \\\\\n",
       "\\textbf{brand[T.tropicana]:feat}                 &       0.7853  &        0.099     &     7.952  &         0.000        &        0.592    &        0.979     \\\\\n",
       "\\textbf{np.log(price):feat}                      &      -0.4706  &        0.074     &    -6.351  &         0.000        &       -0.616    &       -0.325     \\\\\n",
       "\\textbf{np.log(price):brand[T.minute.maid]:feat} &      -1.1092  &        0.122     &    -9.074  &         0.000        &       -1.349    &       -0.870     \\\\\n",
       "\\textbf{np.log(price):brand[T.tropicana]:feat}   &      -0.9861  &        0.124     &    -7.946  &         0.000        &       -1.229    &       -0.743     \\\\\n",
       "\\bottomrule\n",
       "\\end{tabular}\n",
       "%\\caption{Generalized Linear Model Regression Results}\n",
       "\\end{center}"
      ],
      "text/plain": [
       "<class 'statsmodels.iolib.summary.Summary'>\n",
       "\"\"\"\n",
       "                 Generalized Linear Model Regression Results                  \n",
       "==============================================================================\n",
       "Dep. Variable:          np.log(sales)   No. Observations:                28947\n",
       "Model:                            GLM   Df Residuals:                    28935\n",
       "Model Family:                Gaussian   Df Model:                           11\n",
       "Link Function:               Identity   Scale:                         0.48297\n",
       "Method:                          IRLS   Log-Likelihood:                -30534.\n",
       "Date:                Fri, 08 Mar 2024   Deviance:                       13975.\n",
       "Time:                        19:37:52   Pearson chi2:                 1.40e+04\n",
       "No. Iterations:                     3   Pseudo R-squ. (CS):             0.6840\n",
       "Covariance Type:            nonrobust                                         \n",
       "===========================================================================================================\n",
       "                                              coef    std err          z      P>|z|      [0.025      0.975]\n",
       "-----------------------------------------------------------------------------------------------------------\n",
       "Intercept                                  10.4066      0.023    445.668      0.000      10.361      10.452\n",
       "brand[T.minute.maid]                        0.0472      0.047      1.012      0.311      -0.044       0.139\n",
       "brand[T.tropicana]                          0.7079      0.051     13.937      0.000       0.608       0.808\n",
       "np.log(price)                              -2.7742      0.039    -71.445      0.000      -2.850      -2.698\n",
       "np.log(price):brand[T.minute.maid]          0.7829      0.061     12.750      0.000       0.663       0.903\n",
       "np.log(price):brand[T.tropicana]            0.7358      0.057     12.946      0.000       0.624       0.847\n",
       "feat                                        1.0944      0.038     28.721      0.000       1.020       1.169\n",
       "brand[T.minute.maid]:feat                   1.1729      0.082     14.312      0.000       1.012       1.334\n",
       "brand[T.tropicana]:feat                     0.7853      0.099      7.952      0.000       0.592       0.979\n",
       "np.log(price):feat                         -0.4706      0.074     -6.351      0.000      -0.616      -0.325\n",
       "np.log(price):brand[T.minute.maid]:feat    -1.1092      0.122     -9.074      0.000      -1.349      -0.870\n",
       "np.log(price):brand[T.tropicana]:feat      -0.9861      0.124     -7.946      0.000      -1.229      -0.743\n",
       "===========================================================================================================\n",
       "\"\"\""
      ]
     },
     "execution_count": 16,
     "metadata": {},
     "output_type": "execute_result"
    }
   ],
   "source": [
    "result_2.summary()\n",
    "#Df Residuals =  Residual Degree of Freedom\n",
    "#Df Model = Model Degrees of Freedom"
   ]
  },
  {
   "cell_type": "code",
   "execution_count": 25,
   "id": "542e4222-c839-455b-a807-a87766a64de1",
   "metadata": {},
   "outputs": [
    {
     "name": "stdout",
     "output_type": "stream",
     "text": [
      "30078.713766381134\n",
      "30078.713766381137\n"
     ]
    }
   ],
   "source": [
    "#Null Deviance\n",
    "sst = np.sum((np.log(data['sales']) - np.mean(np.log(data['sales']))) ** 2)\n",
    "print(sst)\n",
    "print(result_2.null_deviance)"
   ]
  },
  {
   "cell_type": "code",
   "execution_count": 28,
   "id": "5629075c-f994-4e44-a63b-e2af8f1a0dba",
   "metadata": {},
   "outputs": [
    {
     "name": "stdout",
     "output_type": "stream",
     "text": [
      "13974.755295365494\n",
      "13974.755295365494\n"
     ]
    }
   ],
   "source": [
    "#Residual Deviance or Deviance\n",
    "sse = np.sum((np.log(data['sales']) - result_2.fittedvalues) ** 2)\n",
    "print(sse)\n",
    "print(result_2.deviance)"
   ]
  },
  {
   "cell_type": "code",
   "execution_count": 22,
   "id": "c3d56968-1736-44c7-9dc4-a5fcf8ee2c68",
   "metadata": {},
   "outputs": [
    {
     "name": "stdout",
     "output_type": "stream",
     "text": [
      "0.5353938534770384\n",
      "0.5353938534770369\n"
     ]
    }
   ],
   "source": [
    "#R^2 -  2 Methods\n",
    "r2 = 1 - (sse / sst)\n",
    "print(r2)\n",
    "#By correlation\n",
    "correlation_coeff = np.corrcoef(result_2.fittedvalues, np.log(data['sales']))[0][1]\n",
    "print(correlation_coeff ** 2)"
   ]
  },
  {
   "cell_type": "code",
   "execution_count": 24,
   "id": "9013901c-cb53-49e5-ba16-32086742d025",
   "metadata": {},
   "outputs": [
    {
     "name": "stdout",
     "output_type": "stream",
     "text": [
      "0.4829706340198892\n"
     ]
    }
   ],
   "source": [
    "#  residual variance\n",
    "sigma2 = sse / result_2.df_resid\n",
    "print(sigma2)"
   ]
  },
  {
   "cell_type": "code",
   "execution_count": 30,
   "id": "6c3d6564-aa2b-4a7f-bc1c-c8789d2a0e4a",
   "metadata": {},
   "outputs": [
    {
     "name": "stdout",
     "output_type": "stream",
     "text": [
      "   price        brand  feat\n",
      "0      2    tropicana     1\n",
      "1      2  minute.maid     1\n",
      "2      2    dominicks     1\n"
     ]
    }
   ],
   "source": [
    "#Predictions\n",
    "# New dataframe for prediction\n",
    "exp_data = pd.DataFrame({\n",
    "    'price': [2, 2, 2],\n",
    "    'brand': ['tropicana', 'minute.maid', 'dominicks'],\n",
    "    'feat': [1, 1, 1]\n",
    "})\n",
    "\n",
    "print(exp_data)"
   ]
  },
  {
   "cell_type": "code",
   "execution_count": 31,
   "id": "2149b437-bee6-4a55-b592-c000c296fea9",
   "metadata": {},
   "outputs": [],
   "source": [
    "sales_pred = np.exp(result_2.predict(exp_data))\n"
   ]
  },
  {
   "cell_type": "code",
   "execution_count": 32,
   "id": "2861db06-d30b-4931-898e-1cdb7c4a2c89",
   "metadata": {},
   "outputs": [
    {
     "data": {
      "text/plain": [
       "0    39010.563728\n",
       "1    28166.852093\n",
       "2    10424.587380\n",
       "dtype: float64"
      ]
     },
     "execution_count": 32,
     "metadata": {},
     "output_type": "execute_result"
    }
   ],
   "source": [
    "sales_pred"
   ]
  },
  {
   "cell_type": "code",
   "execution_count": null,
   "id": "32888815-abc6-473f-9e83-35e2ca149724",
   "metadata": {},
   "outputs": [],
   "source": []
  }
 ],
 "metadata": {
  "kernelspec": {
   "display_name": "Python 3 (ipykernel)",
   "language": "python",
   "name": "python3"
  },
  "language_info": {
   "codemirror_mode": {
    "name": "ipython",
    "version": 3
   },
   "file_extension": ".py",
   "mimetype": "text/x-python",
   "name": "python",
   "nbconvert_exporter": "python",
   "pygments_lexer": "ipython3",
   "version": "3.11.1"
  }
 },
 "nbformat": 4,
 "nbformat_minor": 5
}
